{
 "cells": [
  {
   "cell_type": "code",
   "execution_count": 6,
   "metadata": {},
   "outputs": [],
   "source": [
    "from bs4 import BeautifulSoup\n",
    "import json\n",
    "import requests\n",
    "\n",
    "# URL of the course descriptions page\n",
    "url = 'https://catalog.northeastern.edu/course-descriptions/info/'\n",
    "\n",
    "# Fetch the HTML content from the URL\n",
    "response = requests.get(url)\n",
    "html_content = response.content\n",
    "\n",
    "# Parse the HTML content using BeautifulSoup\n",
    "soup = BeautifulSoup(html_content, 'html.parser')\n",
    "\n",
    "# Find all course blocks\n",
    "course_blocks = soup.find_all('div', class_='courseblock')\n",
    "\n",
    "# Extract course titles and descriptions\n",
    "courses = []\n",
    "for block in course_blocks:\n",
    "    course_title = block.find('p', class_='courseblocktitle').get_text(strip=True)\n",
    "    course_description = block.find('p', class_='cb_desc').get_text(strip=True)\n",
    "    \n",
    "    # Initialize prerequisites as None\n",
    "    prerequisites = \"None\"\n",
    "    \n",
    "    # Check for prerequisites\n",
    "    prereq_tag = block.find('p', class_='courseblockextra')\n",
    "    if prereq_tag and 'Prerequisite' in prereq_tag.get_text():\n",
    "        prerequisites = prereq_tag.get_text(strip=True)\n",
    "    \n",
    "    courses.append({\n",
    "        'course': course_title,\n",
    "        'description': course_description,\n",
    "        'prerequisites': prerequisites\n",
    "    })\n",
    "\n",
    "# Print the extracted courses and descriptions\n",
    "# print(json.dumps(courses, indent=4))"
   ]
  },
  {
   "cell_type": "code",
   "execution_count": 7,
   "metadata": {},
   "outputs": [],
   "source": [
    "with open('courses.json', 'w') as json_file:\n",
    "    json.dump(courses, json_file, indent=4)"
   ]
  },
  {
   "cell_type": "markdown",
   "metadata": {},
   "source": [
    "# Pre Process the text"
   ]
  },
  {
   "cell_type": "code",
   "execution_count": 27,
   "metadata": {},
   "outputs": [],
   "source": [
    "def load_data(filename):\n",
    "    with open(filename, 'r') as f:\n",
    "        return json.load(f)\n",
    "\n",
    "def clean_text(text):\n",
    "    # Add more cleaning steps as needed\n",
    "    text = text.replace('\\u2019', \"'\").replace('\\u201c', '\"').replace('\\u201d', '\"')\n",
    "    text = text.replace('\\u00a0', ' ').replace('\\u2122', 'TM').replace('\\u2013', '-')\n",
    "    return text\n",
    "\n",
    "def preprocess_course_data(course_list):\n",
    "    for i in course_list:\n",
    "        i['course'] = clean_text(i['course'])\n",
    "        i['description'] = clean_text(i['description'])\n",
    "        i['prerequisites'] = clean_text(i['prerequisites'])\n",
    "    return course_list\n",
    "\n",
    "def save_data(data, filename):\n",
    "    with open(filename, 'w') as f:\n",
    "        json.dump(data, f, indent=4)"
   ]
  },
  {
   "cell_type": "code",
   "execution_count": 28,
   "metadata": {},
   "outputs": [],
   "source": [
    "input_filename = 'courses.json'\n",
    "output_filename = 'cleaned_course.json'\n",
    "data = load_data(input_filename)\n",
    "clean_data = preprocess_course_data(data)\n",
    "save_data(clean_data, \"cleaned_courses.json\")\n"
   ]
  },
  {
   "cell_type": "markdown",
   "metadata": {},
   "source": []
  }
 ],
 "metadata": {
  "kernelspec": {
   "display_name": "myenv",
   "language": "python",
   "name": "python3"
  },
  "language_info": {
   "codemirror_mode": {
    "name": "ipython",
    "version": 3
   },
   "file_extension": ".py",
   "mimetype": "text/x-python",
   "name": "python",
   "nbconvert_exporter": "python",
   "pygments_lexer": "ipython3",
   "version": "3.10.12"
  }
 },
 "nbformat": 4,
 "nbformat_minor": 2
}
