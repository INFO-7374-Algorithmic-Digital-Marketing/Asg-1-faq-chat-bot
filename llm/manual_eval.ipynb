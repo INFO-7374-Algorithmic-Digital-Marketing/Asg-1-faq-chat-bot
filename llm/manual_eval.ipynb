{
 "cells": [
  {
   "cell_type": "code",
   "execution_count": 1,
   "metadata": {},
   "outputs": [],
   "source": [
    "# !pip install evaluate\n",
    "# !pip install rouge-score bert_score\n",
    "# !pip install scikit-learn\n",
    "# !pip install streamlit\n",
    "# !pip install matplotlib\n",
    "# !pip install seaborn"
   ]
  },
  {
   "cell_type": "code",
   "execution_count": 2,
   "metadata": {},
   "outputs": [],
   "source": [
    "from openai import OpenAI\n",
    "import streamlit as st\n",
    "import json\n",
    "import os\n",
    "import evaluate\n",
    "import matplotlib.pyplot as plt\n",
    "import helper  # Assuming helper is a module that contains the perform_knn_search function\n",
    "\n",
    "%matplotlib inline"
   ]
  },
  {
   "cell_type": "code",
   "execution_count": 3,
   "metadata": {},
   "outputs": [],
   "source": [
    "openai_client = OpenAI(api_key=st.secrets[\"openai\"])\n",
    "\n",
    "# OpenAI model answer function\n",
    "def get_answer_openai(question, context):\n",
    "    response = openai_client.chat.completions.create(\n",
    "        model=\"gpt-3.5-turbo\",\n",
    "        messages=[\n",
    "            {\"role\": \"user\", \"content\": f\"Answer the question based on the context:\\n\\nContext: {context}\\n\\nQuestion: {question}\\nAnswer:\"}\n",
    "        ]\n",
    "    )\n",
    "    return response.choices[0].message.content"
   ]
  },
  {
   "cell_type": "code",
   "execution_count": 4,
   "metadata": {},
   "outputs": [
    {
     "name": "stderr",
     "output_type": "stream",
     "text": [
      "[nltk_data] Downloading package wordnet to\n",
      "[nltk_data]     /Users/deveshsurve/nltk_data...\n",
      "[nltk_data]   Package wordnet is already up-to-date!\n",
      "[nltk_data] Downloading package punkt to\n",
      "[nltk_data]     /Users/deveshsurve/nltk_data...\n",
      "[nltk_data]   Package punkt is already up-to-date!\n",
      "[nltk_data] Downloading package omw-1.4 to\n",
      "[nltk_data]     /Users/deveshsurve/nltk_data...\n",
      "[nltk_data]   Package omw-1.4 is already up-to-date!\n"
     ]
    }
   ],
   "source": [
    "# Load evaluation metrics\n",
    "rouge = evaluate.load('rouge')\n",
    "bleu = evaluate.load('bleu')\n",
    "meteor = evaluate.load('meteor')\n",
    "exact_match = evaluate.load('exact_match')\n",
    "f1 = evaluate.load('f1')"
   ]
  },
  {
   "cell_type": "code",
   "execution_count": 5,
   "metadata": {},
   "outputs": [],
   "source": [
    "# Prepare the dataset\n",
    "questions = []\n",
    "reference_answers = []\n",
    "with open('eval_data.jsonl', 'r') as f:\n",
    "    for line in f:\n",
    "        data = json.loads(line)\n",
    "        questions.append(data['prompt'])\n",
    "        reference_answers.append(data['referenceResponse'])\n"
   ]
  },
  {
   "cell_type": "code",
   "execution_count": 6,
   "metadata": {},
   "outputs": [
    {
     "name": "stderr",
     "output_type": "stream",
     "text": [
      "/opt/homebrew/lib/python3.11/site-packages/huggingface_hub/file_download.py:1132: FutureWarning: `resume_download` is deprecated and will be removed in version 1.0.0. Downloads always resume when possible. If you want to force a new download, use `force_download=True`.\n",
      "  warnings.warn(\n"
     ]
    }
   ],
   "source": [
    "from opensearchpy import OpenSearch\n",
    "import boto3\n",
    "from sentence_transformers import SentenceTransformer\n",
    "from tqdm import tqdm\n",
    "\n",
    "model = SentenceTransformer('all-MiniLM-L6-v2')\n",
    "\n",
    "os_client = OpenSearch(\n",
    "        hosts=[st.secrets[\"esurl\"]],\n",
    "        http_auth=(st.secrets[\"esuser\"], st.secrets[\"espass\"])\n",
    "    )\n",
    "aws_access_key_id = st.secrets[\"aws_access_key_id\"]\n",
    "aws_secret_access_key = st.secrets[\"aws_secret_access_key\"]\n",
    "\n",
    "# Create a session with the AWS credentials\n",
    "session = boto3.Session(\n",
    "    aws_access_key_id=aws_access_key_id,\n",
    "    aws_secret_access_key=aws_secret_access_key,\n",
    "    region_name='us-east-1'  # Replace with your desired region\n",
    ")\n",
    "# Check if GPT answers are already saved\n",
    "if os.path.exists('gpt_answers.json') and os.path.exists('gpt_answers_with_context.json'):\n",
    "    with open('gpt_answers.json', 'r') as f:\n",
    "        gpt_answers_without_context = json.load(f)\n",
    "    with open('gpt_answers_with_context.json', 'r') as f:\n",
    "        gpt_answers_with_context = json.load(f)\n",
    "else:\n",
    "    # Generate answers using GPT without context\n",
    "    gpt_answers_without_context = []\n",
    "    for question in tqdm(questions):\n",
    "        answer = get_answer_openai(question, context=\"\")\n",
    "        gpt_answers_without_context.append(answer)\n",
    "\n",
    "    # Generate answers using GPT with context\n",
    "    gpt_answers_with_context = []\n",
    "    for question in tqdm(questions):\n",
    "        # Get the context from the KNN search results\n",
    "        similar_faqs = helper.perform_knn_search(os_client, \"faqs_v3\", question, model)\n",
    "        context = \"\\n\\n\".join([f\"Q: {q}\\nA: {a}\" for q, a in similar_faqs])\n",
    "        answer = get_answer_openai(question, context)\n",
    "        gpt_answers_with_context.append(answer)\n",
    "\n",
    "    # Save GPT answers to files\n",
    "    with open('gpt_answers.json', 'w') as f:\n",
    "        json.dump(gpt_answers_without_context, f)\n",
    "    with open('gpt_answers_with_context.json', 'w') as f:\n",
    "        json.dump(gpt_answers_with_context, f)"
   ]
  },
  {
   "cell_type": "code",
   "execution_count": 7,
   "metadata": {},
   "outputs": [],
   "source": [
    "# Compare generated answers with reference answers using evaluation metrics\n",
    "rouge_scores_without_context = rouge.compute(predictions=gpt_answers_without_context, references=reference_answers)\n",
    "rouge_scores_with_context = rouge.compute(predictions=gpt_answers_with_context, references=reference_answers)\n",
    "bleu_scores_without_context = bleu.compute(predictions=gpt_answers_without_context, references=reference_answers)\n",
    "bleu_scores_with_context = bleu.compute(predictions=gpt_answers_with_context, references=reference_answers)\n",
    "meteor_scores_without_context = meteor.compute(predictions=gpt_answers_without_context, references=reference_answers)\n",
    "meteor_scores_with_context = meteor.compute(predictions=gpt_answers_with_context, references=reference_answers)\n",
    "exact_match_scores_without_context = exact_match.compute(predictions=gpt_answers_without_context, references=reference_answers)\n",
    "exact_match_scores_with_context = exact_match.compute(predictions=gpt_answers_with_context, references=reference_answers)"
   ]
  },
  {
   "cell_type": "code",
   "execution_count": 8,
   "metadata": {},
   "outputs": [
    {
     "name": "stdout",
     "output_type": "stream",
     "text": [
      "Requirement already satisfied: plotly in /Users/deveshsurve/anaconda3/envs/qnarag/lib/python3.10/site-packages (5.22.0)\n",
      "Requirement already satisfied: tenacity>=6.2.0 in /Users/deveshsurve/anaconda3/envs/qnarag/lib/python3.10/site-packages (from plotly) (8.3.0)\n",
      "Requirement already satisfied: packaging in /Users/deveshsurve/anaconda3/envs/qnarag/lib/python3.10/site-packages (from plotly) (24.0)\n"
     ]
    }
   ],
   "source": [
    "# !pip install plotly"
   ]
  },
  {
   "cell_type": "code",
   "execution_count": 10,
   "metadata": {},
   "outputs": [
    {
     "data": {
      "image/png": "[encoded data removed]",
      "text/plain": [
       "<Figure size 1000x600 with 1 Axes>"
      ]
     },
     "metadata": {},
     "output_type": "display_data"
    }
   ],
   "source": [
    "%matplotlib inline\n",
    "# fig.tight_layout()\n",
    "import matplotlib.pyplot as plt\n",
    "import numpy as np\n",
    "\n",
    "# Create a bar chart to visualize the scores for each evaluation metric\n",
    "scores_without_context = [rouge_scores_without_context['rougeL'], bleu_scores_without_context['bleu'], meteor_scores_without_context['meteor'], exact_match_scores_without_context['exact_match']]\n",
    "scores_with_context = [rouge_scores_with_context['rougeL'], bleu_scores_with_context['bleu'], meteor_scores_with_context['meteor'], exact_match_scores_with_context['exact_match']]\n",
    "metrics = ['ROUGE-L', 'BLEU', 'METEOR', 'Exact Match']\n",
    "\n",
    "x = np.arange(len(metrics))\n",
    "width = 0.35\n",
    "\n",
    "fig, ax = plt.subplots(figsize=(10, 6))\n",
    "rects1 = ax.bar(x - width/2, scores_without_context, width, label='GPT without context', color='#1f77b4')\n",
    "rects2 = ax.bar(x + width/2, scores_with_context, width, label='GPT with context', color='#ff7f0e')\n",
    "\n",
    "ax.set_ylabel('Scores')\n",
    "ax.set_title('Comparison of Evaluation Metrics')\n",
    "ax.set_xticks(x)\n",
    "ax.set_xticklabels(metrics, rotation=45, ha='right')\n",
    "ax.legend()\n",
    "\n",
    "# Add grid lines\n",
    "ax.grid(axis='y', linestyle='--', alpha=0.7)\n",
    "\n",
    "# Add data labels\n",
    "for rect in rects1:\n",
    "    height = rect.get_height()\n",
    "    ax.annotate(f'{height:.2f}', xy=(rect.get_x() + rect.get_width() / 2, height), xytext=(0, 3), textcoords=\"offset points\", ha='center', va='bottom')\n",
    "\n",
    "for rect in rects2:\n",
    "    height = rect.get_height()\n",
    "    ax.annotate(f'{height:.2f}', xy=(rect.get_x() + rect.get_width() / 2, height), xytext=(0, 3), textcoords=\"offset points\", ha='center', va='bottom')\n",
    "\n",
    "# Set the y-axis limit\n",
    "ax.set_ylim([0, 1])\n",
    "\n",
    "# Add a background color\n",
    "fig.patch.set_facecolor('#f5f5f5')\n",
    "ax.set_facecolor('#f5f5f5')\n",
    "\n",
    "plt.show()\n"
   ]
  },
  {
   "cell_type": "code",
   "execution_count": null,
   "metadata": {},
   "outputs": [],
   "source": []
  }
 ],
 "metadata": {
  "kernelspec": {
   "display_name": "Python 3 (ipykernel)",
   "language": "python",
   "name": "python3"
  },
  "language_info": {
   "codemirror_mode": {
    "name": "ipython",
    "version": 3
   },
   "file_extension": ".py",
   "mimetype": "text/x-python",
   "name": "python",
   "nbconvert_exporter": "python",
   "pygments_lexer": "ipython3",
   "version": "3.11.8"
  }
 },
 "nbformat": 4,
 "nbformat_minor": 4
}
